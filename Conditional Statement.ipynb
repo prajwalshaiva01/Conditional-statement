{
 "cells": [
  {
   "cell_type": "markdown",
   "id": "82f222ee-e4e8-4470-be73-b62d59b06c5d",
   "metadata": {},
   "source": [
    "#  Check if a number is positive, negative, or zero\n"
   ]
  },
  {
   "cell_type": "code",
   "execution_count": 2,
   "id": "b906d76c-2174-4e6f-8320-60713e2a7c09",
   "metadata": {},
   "outputs": [
    {
     "name": "stdin",
     "output_type": "stream",
     "text": [
      "enter a number : 5\n"
     ]
    },
    {
     "name": "stdout",
     "output_type": "stream",
     "text": [
      "number is +ve\n"
     ]
    }
   ],
   "source": [
    "num=int(input(\"enter a number :\"))\n",
    "if num > 0:\n",
    "   print(\"number is +ve\")\n",
    "elif num<0:\n",
    "   print(\"number is -ve\")\n",
    "else:\n",
    "    print(\"number is zero\")"
   ]
  },
  {
   "cell_type": "code",
   "execution_count": 4,
   "id": "1ac3198f-362a-488b-96f8-59861952d881",
   "metadata": {},
   "outputs": [
    {
     "name": "stdin",
     "output_type": "stream",
     "text": [
      "enter a number : -87\n"
     ]
    },
    {
     "name": "stdout",
     "output_type": "stream",
     "text": [
      "number is -ve\n"
     ]
    }
   ],
   "source": [
    "num=int(input(\"enter a number :\"))\n",
    "if num > 0:\n",
    "   print(\"number is +ve\")\n",
    "elif num<0:\n",
    "   print(\"number is -ve\")\n",
    "else:\n",
    "    print(\"number is zero\")"
   ]
  },
  {
   "cell_type": "markdown",
   "id": "a98cf453-cff7-44ca-abf6-c29d00143397",
   "metadata": {},
   "source": [
    "#  Check if a character is a vowel or consonant\n"
   ]
  },
  {
   "cell_type": "code",
   "execution_count": 7,
   "id": "0f558af7-11be-464f-8dae-7e30e1b590eb",
   "metadata": {},
   "outputs": [
    {
     "name": "stdin",
     "output_type": "stream",
     "text": [
      "enter a chr: r\n"
     ]
    },
    {
     "name": "stdout",
     "output_type": "stream",
     "text": [
      "is not vowel\n"
     ]
    }
   ],
   "source": [
    "character=input(\"enter a chr:\")\n",
    "if character in'aeiou':\n",
    "     print(\"is vowel\")\n",
    "else:\n",
    "     print(\"is not vowel\")"
   ]
  },
  {
   "cell_type": "code",
   "execution_count": 9,
   "id": "9ae77e55-6ed0-43a7-8935-ac8171ac9c9f",
   "metadata": {},
   "outputs": [
    {
     "name": "stdin",
     "output_type": "stream",
     "text": [
      "enter a chr: e\n"
     ]
    },
    {
     "name": "stdout",
     "output_type": "stream",
     "text": [
      "is vowel\n"
     ]
    }
   ],
   "source": [
    "character=input(\"enter a chr:\")\n",
    "if character in'aeiou':\n",
    "     print(\"is vowel\")\n",
    "else:\n",
    "     print(\"is not vowel\")"
   ]
  },
  {
   "cell_type": "markdown",
   "id": "aa85308e-de83-429e-bb22-1de7a99af32c",
   "metadata": {},
   "source": [
    "#  Assign category based on age\n"
   ]
  },
  {
   "cell_type": "code",
   "execution_count": 12,
   "id": "a23fa26c-1087-4c67-976c-02f2e263e13b",
   "metadata": {},
   "outputs": [
    {
     "name": "stdin",
     "output_type": "stream",
     "text": [
      "enter a age: 45\n"
     ]
    },
    {
     "name": "stdout",
     "output_type": "stream",
     "text": [
      "adult\n"
     ]
    }
   ],
   "source": [
    "age=int(input(\"enter a age:\"))\n",
    "if age < 13:\n",
    "    print(\"child\")\n",
    "elif 13>age<19:\n",
    "     print(\"teenager\")\n",
    "elif 20<=age<59:\n",
    "         print(\"adult\")\n",
    "else:\n",
    "    print(\"senior citizen\")\n",
    "        "
   ]
  },
  {
   "cell_type": "code",
   "execution_count": 14,
   "id": "0c0d6471-3031-4738-bf27-1804b17303c3",
   "metadata": {},
   "outputs": [
    {
     "name": "stdin",
     "output_type": "stream",
     "text": [
      "enter a age: 78\n"
     ]
    },
    {
     "name": "stdout",
     "output_type": "stream",
     "text": [
      "senior citizen\n"
     ]
    }
   ],
   "source": [
    "age=int(input(\"enter a age:\"))\n",
    "if age < 13:\n",
    "    print(\"child\")\n",
    "elif 13>age<19:\n",
    "     print(\"teenager\")\n",
    "elif 20<=age<59:\n",
    "         print(\"adult\")\n",
    "else:\n",
    "    print(\"senior citizen\")\n",
    "        "
   ]
  },
  {
   "cell_type": "markdown",
   "id": "53c36f4e-847d-44fb-b7c1-9467325ba8b7",
   "metadata": {},
   "source": [
    "#  Simple calculator\n"
   ]
  },
  {
   "cell_type": "code",
   "execution_count": 17,
   "id": "77adcc3f-cbbe-43e0-bded-0077162b1f71",
   "metadata": {},
   "outputs": [
    {
     "name": "stdout",
     "output_type": "stream",
     "text": [
      "134\n",
      "22\n",
      "4368\n",
      "1.3928571428571428\n"
     ]
    }
   ],
   "source": [
    "a=78\n",
    "b=56\n",
    "print(a+b)\n",
    "print(a-b)\n",
    "print(a*b)\n",
    "print(a/b)"
   ]
  },
  {
   "cell_type": "code",
   "execution_count": 19,
   "id": "eeba4a55-f45e-4b56-93cc-a677ded010f6",
   "metadata": {},
   "outputs": [
    {
     "name": "stdout",
     "output_type": "stream",
     "text": [
      "91\n",
      "-21\n",
      "1960\n",
      "0.625\n"
     ]
    }
   ],
   "source": [
    "a=35\n",
    "b=56\n",
    "print(a+b)\n",
    "print(a-b)\n",
    "print(a*b)\n",
    "print(a/b)"
   ]
  },
  {
   "cell_type": "markdown",
   "id": "647a5889-eeea-4ef1-a9a5-7b7ad410bc43",
   "metadata": {},
   "source": [
    "# Check eligibility for college admission\n",
    "\n"
   ]
  },
  {
   "cell_type": "code",
   "execution_count": 22,
   "id": "eb9f436f-2c45-4a2e-b751-d6beaf5fd177",
   "metadata": {},
   "outputs": [
    {
     "name": "stdin",
     "output_type": "stream",
     "text": [
      " 98\n",
      " 87\n",
      " 78\n"
     ]
    },
    {
     "name": "stdout",
     "output_type": "stream",
     "text": [
      "student is eligibel\n"
     ]
    }
   ],
   "source": [
    "maths=float(input())\n",
    "physics=float(input())\n",
    "chemistry=float(input())\n",
    "averange=(maths+physics+chemistry)/3\n",
    "if averange>=60:\n",
    "   print(\"student is eligibel\")\n",
    "else:\n",
    "    print(\"student is not eligibel\")\n",
    "    "
   ]
  },
  {
   "cell_type": "code",
   "execution_count": 24,
   "id": "36f6fe91-62e9-450a-8c2b-eefb7b1dc12a",
   "metadata": {},
   "outputs": [
    {
     "name": "stdin",
     "output_type": "stream",
     "text": [
      " 43\n",
      " 23\n",
      " 13\n"
     ]
    },
    {
     "name": "stdout",
     "output_type": "stream",
     "text": [
      "student is not eligibel\n"
     ]
    }
   ],
   "source": [
    "maths=float(input())\n",
    "physics=float(input())\n",
    "chemistry=float(input())\n",
    "averange=(maths+physics+chemistry)/3\n",
    "if averange>=60:\n",
    "   print(\"student is eligibel\")\n",
    "else:\n",
    "    print(\"student is not eligibel\")\n",
    "    "
   ]
  },
  {
   "cell_type": "markdown",
   "id": "bc5f3fa5-6b01-4e35-905c-fb58f4b6ba6f",
   "metadata": {},
   "source": [
    "#  Check if a number is within a range\n",
    "\n"
   ]
  },
  {
   "cell_type": "code",
   "execution_count": 33,
   "id": "6c443656-158c-4067-b1ee-f996c9b8bf45",
   "metadata": {},
   "outputs": [
    {
     "name": "stdin",
     "output_type": "stream",
     "text": [
      "enter a number: 67\n"
     ]
    },
    {
     "name": "stdout",
     "output_type": "stream",
     "text": [
      "is not a with in a range\n"
     ]
    }
   ],
   "source": [
    "num = int (input(\"enter a number:\"))\n",
    "if 10<=num<=50:\n",
    "    print(\"number is with in a range\")\n",
    "else:\n",
    "    print(\"is not a with in a range\")"
   ]
  },
  {
   "cell_type": "code",
   "execution_count": 35,
   "id": "df8cf0fa-747e-479b-973d-dc91dde434fa",
   "metadata": {},
   "outputs": [
    {
     "name": "stdin",
     "output_type": "stream",
     "text": [
      "enter a number: 45\n"
     ]
    },
    {
     "name": "stdout",
     "output_type": "stream",
     "text": [
      "nummber is with in a range\n"
     ]
    }
   ],
   "source": [
    "num = int (input(\"enter a number:\"))\n",
    "if 10<=num<=50:\n",
    "    print(\"nummber is with in a range\")\n",
    "else:\n",
    "    print(\"is not a with in a range\")"
   ]
  },
  {
   "cell_type": "markdown",
   "id": "00ac4f4d-2339-4df7-abdd-bf5e59ebce4a",
   "metadata": {},
   "source": [
    "# Compare two strings (case-insensitive)\n"
   ]
  },
  {
   "cell_type": "code",
   "execution_count": 44,
   "id": "d982a973-0cec-42ea-b563-f875e39acd4a",
   "metadata": {},
   "outputs": [
    {
     "name": "stdin",
     "output_type": "stream",
     "text": [
      "enter a string: prajwal\n",
      "enter a string: shaiva\n"
     ]
    },
    {
     "name": "stdout",
     "output_type": "stream",
     "text": [
      "True\n",
      "False\n",
      "True\n"
     ]
    }
   ],
   "source": [
    "string1=input(\"enter a string:\")\n",
    "string2=input(\"enter a string:\")\n",
    "string3=string1\n",
    "print(string1 is not string2)\n",
    "print(string1 is string2)\n",
    "print(string1 is string3)\n"
   ]
  },
  {
   "cell_type": "code",
   "execution_count": null,
   "id": "25c2f023-9f06-418e-b1b1-577ba1fb3071",
   "metadata": {},
   "outputs": [],
   "source": []
  }
 ],
 "metadata": {
  "kernelspec": {
   "display_name": "Python [conda env:base] *",
   "language": "python",
   "name": "conda-base-py"
  },
  "language_info": {
   "codemirror_mode": {
    "name": "ipython",
    "version": 3
   },
   "file_extension": ".py",
   "mimetype": "text/x-python",
   "name": "python",
   "nbconvert_exporter": "python",
   "pygments_lexer": "ipython3",
   "version": "3.12.7"
  }
 },
 "nbformat": 4,
 "nbformat_minor": 5
}
